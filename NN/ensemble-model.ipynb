{
 "cells": [
  {
   "cell_type": "code",
   "execution_count": 1,
   "metadata": {
    "_cell_guid": "b1076dfc-b9ad-4769-8c92-a6c4dae69d19",
    "_uuid": "8f2839f25d086af736a60e9eeb907d3b93b6e0e5"
   },
   "outputs": [],
   "source": [
    "seed = 123"
   ]
  },
  {
   "cell_type": "code",
   "execution_count": 2,
   "metadata": {
    "_cell_guid": "79c7e3d0-c299-4dcb-8224-4455121ee9b0",
    "_uuid": "d629ff2d2480ee46fbb7e2d37f6b5fab8052498a"
   },
   "outputs": [
    {
     "name": "stderr",
     "output_type": "stream",
     "text": [
      "Using TensorFlow backend.\n"
     ]
    },
    {
     "name": "stdout",
     "output_type": "stream",
     "text": [
      "\n",
      "Import completed after 2.8 sec\n",
      "\n",
      "CLASS RATIOS\n",
      "================================================================================\n",
      "Training set active classes:   121/24927 (0.485 %)\n",
      "Test set active classes:       30/6232 (0.481 %)\n",
      "\n",
      "MATRIX DIMENSIONS\n",
      "================================================================================\n",
      "TRAINING SET\n",
      ". Features:   (24927, 5408)\n",
      ". Classes:    (24927,)\n",
      "TEST SET\n",
      ". Features:   (6232, 5408)\n",
      ". Classes:    (6232,)\n"
     ]
    }
   ],
   "source": [
    "# import helper functions\n",
    "from shutil import copyfile\n",
    "\n",
    "copyfile(\n",
    "    src = \"/kaggle/input/bdc-p53/p53_helper_functions.py\", \n",
    "    dst = \"/kaggle/working/p53_helpers.py\"\n",
    ")\n",
    "\n",
    "from p53_helpers import *\n",
    "\n",
    "# load dataset (no NAs)\n",
    "X, Y = load_p53_ds()\n",
    "# sratified 80/20 split\n",
    "X_train, X_test, Y_train, Y_test = split_p53(X, Y)"
   ]
  },
  {
   "cell_type": "code",
   "execution_count": 3,
   "metadata": {
    "collapsed": true
   },
   "outputs": [],
   "source": [
    "# preprocessing for LR\n",
    "FU = FeatureUnion([\n",
    "    (\"pca\", PCA(n_components = 10)),\n",
    "    (\"fs_univ_F\", SelectKBest(f_classif, k=5)),\n",
    "    (\"fs_model\", SelectFromModel(\n",
    "        LinearSVC(max_iter=15000, random_state=seed, class_weight=\"balanced\"), threshold=-np.inf, max_features=1000)\n",
    "    )\n",
    "])\n",
    "\n",
    "pipe = Pipeline([\n",
    "    (\"ss\", StandardScaler()),\n",
    "    (\"pp\", FU)\n",
    "])"
   ]
  },
  {
   "cell_type": "code",
   "execution_count": 4,
   "metadata": {},
   "outputs": [
    {
     "name": "stderr",
     "output_type": "stream",
     "text": [
      "/opt/conda/lib/python3.7/site-packages/sklearn/svm/_base.py:947: ConvergenceWarning: Liblinear failed to converge, increase the number of iterations.\n",
      "  \"the number of iterations.\", ConvergenceWarning)\n"
     ]
    }
   ],
   "source": [
    "X_train_prepped = pipe.fit_transform(X_train, Y_train)\n",
    "X_test_prepped = pipe.transform(X_test)"
   ]
  },
  {
   "cell_type": "code",
   "execution_count": 5,
   "metadata": {},
   "outputs": [],
   "source": [
    "LR = LogisticRegression(max_iter=5000, penalty=\"l2\", C=1, class_weight={0:0.05, 1:0.95}, random_state=seed)\n",
    "LR.fit(X_train_prepped, Y_train)\n",
    "Y_test_proba_LR = LR.predict_proba(X_test_prepped)[:, 1]    # estimated P(class == \"active\")"
   ]
  },
  {
   "cell_type": "code",
   "execution_count": 6,
   "metadata": {},
   "outputs": [],
   "source": [
    "# RFC (CSL, no resampling)\n",
    "FU = FeatureUnion([\n",
    "    (\"fs_univ\", SelectKBest(f_classif, k=20)),\n",
    "    (\"fs_model\", SelectFromModel(\n",
    "        ExtraTreesClassifier(n_estimators=100, random_state=seed), threshold=-np.inf, max_features=125)\n",
    "    )\n",
    "])\n",
    "\n",
    "pipe = Pipeline([\n",
    "    (\"remove_corr\", RemoveCorrelatedFeatures(n_remove=250)),\n",
    "    (\"scale\", StandardScaler()),\n",
    "    (\"fs\", FU)\n",
    "])\n",
    "\n",
    "X_train_prepped = pipe.fit_transform(X_train, Y_train)\n",
    "X_test_prepped = pipe.transform(X_test)"
   ]
  },
  {
   "cell_type": "code",
   "execution_count": 7,
   "metadata": {},
   "outputs": [],
   "source": [
    "RFC = RandomForestClassifier(random_state=seed, min_samples_leaf=10, n_estimators=500, max_depth=10, class_weight={0:0.01, 1:0.99})\n",
    "RFC.fit(X_train_prepped, Y_train)\n",
    "Y_test_proba_RFC = RFC.predict_proba(X_test_prepped)[:, 1]    # estimated P(class == \"active\")"
   ]
  },
  {
   "cell_type": "code",
   "execution_count": 8,
   "metadata": {},
   "outputs": [],
   "source": [
    "# NN preprocessing"
   ]
  },
  {
   "cell_type": "code",
   "execution_count": 9,
   "metadata": {},
   "outputs": [],
   "source": [
    "# make model and return the prop of the minority class to allow optimization the class weights\n",
    "def make_model(\n",
    "    x, y,\n",
    "    u1=256,\n",
    "    d1=0.5,\n",
    "    lr=0.001,\n",
    "    smart_init=True\n",
    "):\n",
    "    \n",
    "    # define metrics\n",
    "    metrics = [\n",
    "        mcc,\n",
    "        keras.metrics.TruePositives(name='tp'),\n",
    "        keras.metrics.FalsePositives(name='fp'),\n",
    "        keras.metrics.TrueNegatives(name='tn'),\n",
    "        keras.metrics.FalseNegatives(name='fn'), \n",
    "        keras.metrics.BinaryAccuracy(name='accuracy'),\n",
    "        keras.metrics.Precision(name='precision'),\n",
    "        keras.metrics.Recall(name='recall'),\n",
    "        keras.metrics.AUC(name='auc', curve=\"PR\")\n",
    "    ]\n",
    "    \n",
    "    if smart_init:\n",
    "        n_active = y.sum()\n",
    "        n_inactive = len(y) - n_active\n",
    "        b0 = tf.keras.initializers.Constant(np.log([n_active / n_inactive]))\n",
    "    else:\n",
    "        b0=None # random initialization\n",
    "\n",
    "    # build & compile\n",
    "    model = keras.Sequential([\n",
    "        keras.layers.Dense(u1, activation='relu', input_shape=(x.shape[-1], )),\n",
    "        keras.layers.Dropout(d1),\n",
    "        keras.layers.Dense(1, activation='sigmoid', bias_initializer=b0)\n",
    "    ])\n",
    "    \n",
    "    model.compile(\n",
    "        optimizer=keras.optimizers.Adam(lr=lr),\n",
    "        loss=keras.losses.BinaryCrossentropy(),\n",
    "        metrics=metrics\n",
    "    )\n",
    "    \n",
    "    return model"
   ]
  },
  {
   "cell_type": "code",
   "execution_count": 10,
   "metadata": {},
   "outputs": [],
   "source": [
    "X_train, Y_train = np.array(X_train), np.array(Y_train)\n",
    "\n",
    "# Preprocessing\n",
    "pipe = Pipeline([\n",
    "    (\"scale\", StandardScaler()),\n",
    "    (\"clip\", ClipFeatures(c=3))\n",
    "])\n",
    "\n",
    "X_train_prepped = pipe.fit_transform(X_train, Y_train)\n",
    "\n",
    "X_test, Y_test = np.array(X_test), np.array(Y_test)\n",
    "X_test_prepped = pipe.transform(X_test)"
   ]
  },
  {
   "cell_type": "code",
   "execution_count": 11,
   "metadata": {},
   "outputs": [],
   "source": [
    "NN = make_model(x=X_train_prepped, y=Y_train, lr=0.001)\n",
    "\n",
    "history = NN.fit(\n",
    "    X_train_prepped,\n",
    "    Y_train,\n",
    "    batch_size=4096,\n",
    "    epochs=65,\n",
    "    verbose=0,\n",
    "    class_weight={0: 0.15, 1: 0.85}\n",
    ")"
   ]
  },
  {
   "cell_type": "code",
   "execution_count": 12,
   "metadata": {},
   "outputs": [],
   "source": [
    "Y_test_proba_NN = NN.predict_proba(X_test_prepped)"
   ]
  },
  {
   "cell_type": "code",
   "execution_count": 13,
   "metadata": {},
   "outputs": [
    {
     "name": "stdout",
     "output_type": "stream",
     "text": [
      "(6232,)\n",
      "(6232,)\n",
      "(6232, 1)\n"
     ]
    }
   ],
   "source": [
    "# check estimated probabilities\n",
    "print(Y_test_proba_LR.shape)\n",
    "print(Y_test_proba_RFC.shape)\n",
    "print(Y_test_proba_NN.shape)"
   ]
  },
  {
   "cell_type": "code",
   "execution_count": 14,
   "metadata": {},
   "outputs": [],
   "source": [
    "Y_test_proba_NN = Y_test_proba_NN.flatten()"
   ]
  },
  {
   "cell_type": "code",
   "execution_count": 15,
   "metadata": {},
   "outputs": [],
   "source": [
    "# soft voting: avg probability (equal weight)\n",
    "Y_test_avg_proba = np.mean([Y_test_proba_LR, Y_test_proba_RFC, Y_test_proba_NN], axis=0)"
   ]
  },
  {
   "cell_type": "code",
   "execution_count": 16,
   "metadata": {},
   "outputs": [
    {
     "name": "stdout",
     "output_type": "stream",
     "text": [
      "Model 1\n",
      "--------------------------------------------------------------------------------\n",
      "Precision:     65.71%\n",
      "Recall:        76.67%\n",
      "AUCPR:         58.64%\n",
      "F1:            70.77%\n",
      "MCC:           70.83%\n",
      "\n"
     ]
    },
    {
     "data": {
      "text/plain": [
       "[<matplotlib.lines.Line2D at 0x7f414bd37850>]"
      ]
     },
     "execution_count": 16,
     "metadata": {},
     "output_type": "execute_result"
    },
    {
     "data": {
      "image/png": "[encoded data removed]",
      "text/plain": [
       "<Figure size 432x288 with 1 Axes>"
      ]
     },
     "metadata": {
      "needs_background": "light"
     },
     "output_type": "display_data"
    }
   ],
   "source": [
    "Y_pred = (Y_test_avg_proba > 0.5).astype('int')\n",
    "prec, rec, t = precision_recall_curve(Y_test, Y_test_avg_proba)\n",
    "\n",
    "print(f\"Model 1\\n{'-' * 80}\")\n",
    "print(f\"Precision:     {precision_score(Y_test, Y_pred):.2%}\")\n",
    "print(f\"Recall:        {recall_score(Y_test, Y_pred):.2%}\")\n",
    "print(f\"AUCPR:         {auc(rec, prec):.2%}\")\n",
    "print(f\"F1:            {f1_score(Y_test, Y_pred):.2%}\")\n",
    "print(f\"MCC:           {matthews_corrcoef(Y_test, Y_pred):.2%}\")\n",
    "print()\n",
    "\n",
    "plt.plot(rec, prec, marker='.', label=\"ensemble\", alpha=0.5)"
   ]
  },
  {
   "cell_type": "code",
   "execution_count": 17,
   "metadata": {},
   "outputs": [
    {
     "name": "stdout",
     "output_type": "stream",
     "text": [
      "Model LR\n",
      "--------------------------------------------------------------------------------\n",
      "Precision:     48.94%\n",
      "Recall:        76.67%\n",
      "AUCPR:         54.17%\n",
      "F1:            59.74%\n",
      "MCC:           61.03%\n",
      "\n",
      "Model RFC\n",
      "--------------------------------------------------------------------------------\n",
      "Precision:     51.52%\n",
      "Recall:        56.67%\n",
      "AUCPR:         48.14%\n",
      "F1:            53.97%\n",
      "MCC:           53.80%\n",
      "\n",
      "Model NN\n",
      "--------------------------------------------------------------------------------\n",
      "Precision:     62.16%\n",
      "Recall:        76.67%\n",
      "AUCPR:         68.12%\n",
      "F1:            68.66%\n",
      "MCC:           68.87%\n",
      "\n",
      "Model Ensemble\n",
      "--------------------------------------------------------------------------------\n",
      "Precision:     65.71%\n",
      "Recall:        76.67%\n",
      "AUCPR:         58.64%\n",
      "F1:            70.77%\n",
      "MCC:           70.83%\n",
      "\n"
     ]
    },
    {
     "data": {
      "image/png": "[encoded data removed]",
      "text/plain": [
       "<Figure size 432x288 with 1 Axes>"
      ]
     },
     "metadata": {
      "needs_background": "light"
     },
     "output_type": "display_data"
    }
   ],
   "source": [
    "# Plot all\n",
    "for name, y_proba in zip(\n",
    "    [\"LR\", \"RFC\", \"NN\", \"Ensemble\"],\n",
    "    [Y_test_proba_LR, Y_test_proba_RFC, Y_test_proba_NN, Y_test_avg_proba]\n",
    "):\n",
    "    \n",
    "    Y_pred = (y_proba > 0.5).astype(\"int\")\n",
    "    \n",
    "    prec, rec, t = precision_recall_curve(Y_test, y_proba)\n",
    "    plt.plot(rec, prec, marker='.', label=name, alpha=0.5)\n",
    "    \n",
    "    print(f\"Model {name}\\n{'-' * 80}\")\n",
    "    print(f\"Precision:     {precision_score(Y_test, Y_pred):.2%}\")\n",
    "    print(f\"Recall:        {recall_score(Y_test, Y_pred):.2%}\")\n",
    "    print(f\"AUCPR:         {auc(rec, prec):.2%}\")\n",
    "    print(f\"F1:            {f1_score(Y_test, Y_pred):.2%}\")\n",
    "    print(f\"MCC:           {matthews_corrcoef(Y_test, Y_pred):.2%}\")\n",
    "    print()"
   ]
  },
  {
   "cell_type": "code",
   "execution_count": 18,
   "metadata": {},
   "outputs": [
    {
     "name": "stdout",
     "output_type": "stream",
     "text": [
      "[[6190   12]\n",
      " [   7   23]]\n"
     ]
    }
   ],
   "source": [
    "# confusion matrix of Ensemble classifier\n",
    "from sklearn.metrics import confusion_matrix\n",
    "\n",
    "Y_pred = (Y_test_avg_proba > 0.5).astype('int')\n",
    "\n",
    "print(confusion_matrix(Y_test, Y_pred))"
   ]
  }
 ],
 "metadata": {
  "kernelspec": {
   "display_name": "Python 3",
   "language": "python",
   "name": "python3"
  },
  "language_info": {
   "codemirror_mode": {
    "name": "ipython",
    "version": 3
   },
   "file_extension": ".py",
   "mimetype": "text/x-python",
   "name": "python",
   "nbconvert_exporter": "python",
   "pygments_lexer": "ipython3",
   "version": "3.7.6"
  }
 },
 "nbformat": 4,
 "nbformat_minor": 4
}
