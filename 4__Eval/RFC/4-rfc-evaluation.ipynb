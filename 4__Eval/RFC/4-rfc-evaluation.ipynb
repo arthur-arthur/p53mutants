{
 "cells": [
  {
   "cell_type": "code",
   "execution_count": 1,
   "metadata": {},
   "outputs": [],
   "source": [
    "seed = 123"
   ]
  },
  {
   "cell_type": "code",
   "execution_count": 2,
   "metadata": {},
   "outputs": [
    {
     "name": "stderr",
     "output_type": "stream",
     "text": [
      "Using TensorFlow backend.\n"
     ]
    },
    {
     "name": "stdout",
     "output_type": "stream",
     "text": [
      "\n",
      "Import completed after 3.4 sec\n",
      "\n",
      "CLASS RATIOS\n",
      "================================================================================\n",
      "Training set active classes:   121/24927 (0.485 %)\n",
      "Test set active classes:       30/6232 (0.481 %)\n",
      "\n",
      "MATRIX DIMENSIONS\n",
      "================================================================================\n",
      "TRAINING SET\n",
      ". Features:   (24927, 5408)\n",
      ". Classes:    (24927,)\n",
      "TEST SET\n",
      ". Features:   (6232, 5408)\n",
      ". Classes:    (6232,)\n"
     ]
    }
   ],
   "source": [
    "from shutil import copyfile\n",
    "\n",
    "copyfile(\n",
    "    src = \"/kaggle/input/bdc-p53/p53_helper_functions.py\", \n",
    "    dst = \"/kaggle/working/p53_helpers.py\"\n",
    ")\n",
    "\n",
    "from p53_helpers import *\n",
    "\n",
    "# load dataset (no NAs)\n",
    "X, Y = load_p53_ds()\n",
    "# sratified 80/20 split\n",
    "X_train, X_test, Y_train, Y_test = split_p53(X, Y)"
   ]
  },
  {
   "cell_type": "code",
   "execution_count": 3,
   "metadata": {},
   "outputs": [
    {
     "name": "stdout",
     "output_type": "stream",
     "text": [
      "Preprocessing: 36 sec\n"
     ]
    }
   ],
   "source": [
    "# preprocessing pipeline\n",
    "\n",
    "tic = time.time()\n",
    "\n",
    "FU = FeatureUnion([\n",
    "    (\"fs_univ\", SelectKBest(f_classif, k=20)),\n",
    "    (\"fs_model\", SelectFromModel(\n",
    "        ExtraTreesClassifier(n_estimators=100, random_state=seed), threshold=-np.inf, max_features=125)\n",
    "    )\n",
    "])\n",
    "\n",
    "pipe = Pipeline([\n",
    "    (\"remove_corr\", RemoveCorrelatedFeatures(n_remove=250)),\n",
    "    (\"scale\", StandardScaler()),\n",
    "    (\"fs\", FU)\n",
    "])\n",
    "\n",
    "X_train_prepped = pipe.fit_transform(X_train, Y_train)\n",
    "\n",
    "print(\"Preprocessing:\", round(time.time() - tic), \"sec\")\n",
    "\n",
    "# transform test set\n",
    "X_test_prepped = pipe.transform(X_test)"
   ]
  },
  {
   "cell_type": "markdown",
   "execution_count": null,
   "metadata": {},
   "source": [
    "# Evaluate RFC pipelines\n",
    "\n",
    "Compare:\n",
    "    * m1: Resampling\n",
    "    * m2: Resampling w/ cost-sensitive learning\n",
    "    * m3: No resampling\n",
    "    * m4: No resampling w/ cost-sensitive learning\n",
    "    * m5: No preprocessing"
   ]
  },
  {
   "cell_type": "code",
   "execution_count": 4,
   "metadata": {},
   "outputs": [
    {
     "name": "stdout",
     "output_type": "stream",
     "text": [
      "Model 0 training time:    94 sec\n",
      "Model 1 training time:    73 sec\n",
      "Model 2 training time:    74 sec\n",
      "Model 3 training time:    56 sec\n",
      "Model 5 training time:    463 sec\n"
     ]
    }
   ],
   "source": [
    "# Model 1: resampling\n",
    "m1 = Pipeline([\n",
    "    (\"resample\", SVMSMOTE(sampling_strategy=0.01, random_state=seed, k_neighbors=10, m_neighbors=10)),\n",
    "    (\"clf\", RandomForestClassifier(random_state=seed, min_samples_leaf=10, n_estimators=500, max_depth=10))\n",
    "])\n",
    "\n",
    "# Model 2: resampling + cost-sensitive learning\n",
    "m2 = Pipeline([\n",
    "    (\"resample\", SVMSMOTE(sampling_strategy=0.01, random_state=seed, k_neighbors=10, m_neighbors=10)),\n",
    "    (\"clf\", RandomForestClassifier(random_state=seed, min_samples_leaf=10, n_estimators=500, max_depth=10, class_weight={0:0.01, 1:0.99}))\n",
    "])\n",
    "\n",
    "# Model 3: no resampling, no Csl\n",
    "m3 = RandomForestClassifier(random_state=seed, min_samples_leaf=10, n_estimators=500, max_depth=10)\n",
    "\n",
    "# Model 4: csl\n",
    "m4 = RandomForestClassifier(random_state=seed, min_samples_leaf=10, n_estimators=500, max_depth=10, class_weight={0:0.01, 1:0.99})\n",
    "\n",
    "# fit models\n",
    "i = 0\n",
    "for model in [m1, m2, m3, m4]:\n",
    "    tic = time.time()\n",
    "    model.fit(X_train_prepped, Y_train)\n",
    "    print(f\"Model {i} training time:    {round(time.time() - tic)} sec\")\n",
    "    i += 1\n",
    "    \n",
    "# Model 5: baseline, no preprocessing\n",
    "m5 = RandomForestClassifier(random_state=seed, min_samples_leaf=10, n_estimators=500, max_depth=10)\n",
    "tic = time.time()\n",
    "m5.fit(X_train, Y_train)\n",
    "print(f\"Model 5 training time:    {round(time.time() - tic)} sec\")"
   ]
  },
  {
   "cell_type": "code",
   "execution_count": 5,
   "metadata": {},
   "outputs": [
    {
     "name": "stdout",
     "output_type": "stream",
     "text": [
      "SVMSMOTE-RFC\n",
      "--------------------------------------------------------------------------------\n",
      "Precision:     50.00%\n",
      "Recall:        30.00%\n",
      "AUCPR:         44.37%\n",
      "F1:            37.50%\n",
      "MCC:           38.51%\n",
      "\n",
      "SVMSMOTE-RFC/CSL\n",
      "--------------------------------------------------------------------------------\n",
      "Precision:     47.62%\n",
      "Recall:        66.67%\n",
      "AUCPR:         47.96%\n",
      "F1:            55.56%\n",
      "MCC:           56.10%\n",
      "\n",
      "RFC\n",
      "--------------------------------------------------------------------------------\n",
      "Precision:     57.14%\n",
      "Recall:        13.33%\n",
      "AUCPR:         39.48%\n",
      "F1:            21.62%\n",
      "MCC:           27.45%\n",
      "\n",
      "RFC/CSL\n",
      "--------------------------------------------------------------------------------\n",
      "Precision:     51.52%\n",
      "Recall:        56.67%\n",
      "AUCPR:         48.14%\n",
      "F1:            53.97%\n",
      "MCC:           53.80%\n",
      "\n",
      "RFC without preprocessing\n",
      "--------------------------------------------------------------------------------\n",
      "Precision:     66.67%\n",
      "Recall:        13.33%\n",
      "AUCPR:         47.83%\n",
      "F1:            22.22%\n",
      "MCC:           29.68%\n",
      "\n"
     ]
    },
    {
     "data": {
      "text/plain": [
       "<matplotlib.legend.Legend at 0x7f9680456208>"
      ]
     },
     "execution_count": 5,
     "metadata": {},
     "output_type": "execute_result"
    },
    {
     "data": {
      "image/png": "[encoded data removed]",
      "text/plain": [
       "<Figure size 432x288 with 1 Axes>"
      ]
     },
     "metadata": {
      "needs_background": "light"
     },
     "output_type": "display_data"
    }
   ],
   "source": [
    "# init dfs for results\n",
    "out_curves = pd.DataFrame(\n",
    "    columns=[\"model\", \"precision\", \"recall\", \"threshold\"]\n",
    ")\n",
    "\n",
    "out_eval = pd.DataFrame(\n",
    "    index=np.arange(5), \n",
    "    columns=[\"model\", \"precision\", \"recall\", \"accuracy\", \"balanced_accuracy\", \"f1\", \"mcc\", \"tn\", \"fp\", \"fn\", \"tp\", \"aucpr\"]\n",
    ")\n",
    "\n",
    "i = 0\n",
    "\n",
    "for name, model in zip(\n",
    "    [\"SVMSMOTE-RFC\", \"SVMSMOTE-RFC/CSL\", \"RFC\", \"RFC/CSL\"],\n",
    "    [m1, m2, m3, m4]\n",
    "):\n",
    "\n",
    "    Y_test_proba = model.predict_proba(X_test_prepped)[:, 1]    # estimated P(class == \"active\")\n",
    "    Y_pred = model.predict(X_test_prepped)                      # predicted class labels\n",
    "\n",
    "    # construct precision-recall curve\n",
    "    prec, rec, t = precision_recall_curve(Y_test, Y_test_proba)\n",
    "    plt.plot(rec, prec, marker='.', label=name, alpha=0.5)\n",
    "    \n",
    "    t = np.append(t, t[-1])\n",
    "    \n",
    "    curves = pd.DataFrame({\n",
    "        \"model\": name,\n",
    "        \"precision\": prec,\n",
    "        \"recall\": rec,\n",
    "        \"threshold\": t\n",
    "    })\n",
    "    \n",
    "    out_curves = out_curves.append(curves)\n",
    "\n",
    "    # compute eval metrics\n",
    "    scores = [\n",
    "        scorer(Y_test, Y_pred) for scorer in [            \n",
    "            precision_score, recall_score, accuracy_score, balanced_accuracy_score, f1_score, matthews_corrcoef\n",
    "        ]\n",
    "    ]\n",
    "    # add tn, fp, fn, tp\n",
    "    scores.extend(confusion_matrix(Y_test, Y_pred).ravel())\n",
    "    # add AUCPR\n",
    "    scores.append(auc(rec, prec))\n",
    "    # add name\n",
    "    scores.insert(0, name)\n",
    "    \n",
    "    # store in df\n",
    "    for col, value in zip(out_eval.columns, scores):\n",
    "        out_eval[col][i] = value\n",
    "    \n",
    "    i += 1\n",
    "    \n",
    "    # print evaluation scores\n",
    "    print(f\"{name}\\n{'-' * 80}\")\n",
    "    print(f\"Precision:     {precision_score(Y_test, Y_pred):.2%}\")\n",
    "    print(f\"Recall:        {recall_score(Y_test, Y_pred):.2%}\")\n",
    "    print(f\"AUCPR:         {auc(rec, prec):.2%}\")\n",
    "    print(f\"F1:            {f1_score(Y_test, Y_pred):.2%}\")\n",
    "    print(f\"MCC:           {matthews_corrcoef(Y_test, Y_pred):.2%}\")\n",
    "    print()\n",
    "\n",
    "# add m5: reference (on unprocessed ds)\n",
    "Y_test_proba = m5.predict_proba(X_test)[:, 1]    # estimated P(class == \"active\")\n",
    "Y_pred = m5.predict(X_test)                      # predicted class labels\n",
    "\n",
    "# construct precision-recall curve\n",
    "prec, rec, t = precision_recall_curve(Y_test, Y_test_proba)\n",
    "plt.plot(rec, prec, marker='.', label=\"RFC (no PP)\", alpha=0.5, c=\"grey\")\n",
    "\n",
    "t = np.append(t, t[-1])\n",
    "\n",
    "curves = pd.DataFrame({\n",
    "    \"model\": \"RFC (no PP)\",\n",
    "    \"precision\": prec,\n",
    "    \"recall\": rec,\n",
    "    \"threshold\": t\n",
    "})\n",
    "\n",
    "out_curves = out_curves.append(curves)\n",
    "\n",
    "# compute eval metrics\n",
    "scores = [\n",
    "    scorer(Y_test, Y_pred) for scorer in [            \n",
    "        precision_score, recall_score, accuracy_score, balanced_accuracy_score, f1_score, matthews_corrcoef\n",
    "    ]\n",
    "]\n",
    "\n",
    "# add tn, fp, fn, tp\n",
    "scores.extend(confusion_matrix(Y_test, Y_pred).ravel())\n",
    "# add AUCPR\n",
    "scores.append(auc(rec, prec))\n",
    "# add name\n",
    "scores.insert(0, \"RFC (no PP)\")\n",
    "\n",
    "# store in df\n",
    "for col, value in zip(out_eval.columns, scores):\n",
    "    out_eval[col][4] = value\n",
    "\n",
    "# print evaluation scores\n",
    "print(f\"RFC without preprocessing\\n{'-' * 80}\")\n",
    "print(f\"Precision:     {precision_score(Y_test, Y_pred):.2%}\")\n",
    "print(f\"Recall:        {recall_score(Y_test, Y_pred):.2%}\")\n",
    "print(f\"AUCPR:         {auc(rec, prec):.2%}\")\n",
    "print(f\"F1:            {f1_score(Y_test, Y_pred):.2%}\")\n",
    "print(f\"MCC:           {matthews_corrcoef(Y_test, Y_pred):.2%}\")\n",
    "print()\n",
    "\n",
    "plt.xlabel('Recall')\n",
    "plt.ylabel('Precision')\n",
    "plt.legend()"
   ]
  },
  {
   "cell_type": "code",
   "execution_count": 6,
   "metadata": {},
   "outputs": [],
   "source": [
    "out_eval.to_csv(\"RFC_eval.csv\")\n",
    "out_curves.to_csv(\"RFC_eval_PRcurves.csv\")"
   ]
  }
 ],
 "metadata": {
  "kernelspec": {
   "display_name": "Python 3",
   "language": "python",
   "name": "python3"
  },
  "language_info": {
   "codemirror_mode": {
    "name": "ipython",
    "version": 3
   },
   "file_extension": ".py",
   "mimetype": "text/x-python",
   "name": "python",
   "nbconvert_exporter": "python",
   "pygments_lexer": "ipython3",
   "version": "3.6.6"
  }
 },
 "nbformat": 4,
 "nbformat_minor": 4
}
