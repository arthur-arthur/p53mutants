{
 "cells": [
  {
   "cell_type": "code",
   "execution_count": 1,
   "metadata": {},
   "outputs": [],
   "source": [
    "seed = 123"
   ]
  },
  {
   "cell_type": "code",
   "execution_count": 2,
   "metadata": {},
   "outputs": [
    {
     "name": "stderr",
     "output_type": "stream",
     "text": [
      "Using TensorFlow backend.\n"
     ]
    },
    {
     "name": "stdout",
     "output_type": "stream",
     "text": [
      "\n",
      "Import completed after 3.6 sec\n",
      "\n",
      "CLASS RATIOS\n",
      "================================================================================\n",
      "Training set active classes:   121/24927 (0.485 %)\n",
      "Test set active classes:       30/6232 (0.481 %)\n",
      "\n",
      "MATRIX DIMENSIONS\n",
      "================================================================================\n",
      "TRAINING SET\n",
      ". Features:   (24927, 5408)\n",
      ". Classes:    (24927,)\n",
      "TEST SET\n",
      ". Features:   (6232, 5408)\n",
      ". Classes:    (6232,)\n"
     ]
    }
   ],
   "source": [
    "# import helper functions\n",
    "from shutil import copyfile\n",
    "\n",
    "copyfile(\n",
    "    src = \"/kaggle/input/bdc-p53/p53_helper_functions.py\", \n",
    "    dst = \"/kaggle/working/p53_helpers.py\"\n",
    ")\n",
    "\n",
    "from p53_helpers import *\n",
    "\n",
    "# load dataset (no NAs)\n",
    "X, Y = load_p53_ds()\n",
    "# sratified 80/20 split\n",
    "X_train, X_test, Y_train, Y_test = split_p53(X, Y)"
   ]
  },
  {
   "cell_type": "code",
   "execution_count": 3,
   "metadata": {},
   "outputs": [
    {
     "name": "stderr",
     "output_type": "stream",
     "text": [
      "/opt/conda/lib/python3.6/site-packages/sklearn/svm/_base.py:947: ConvergenceWarning: Liblinear failed to converge, increase the number of iterations.\n",
      "  \"the number of iterations.\", ConvergenceWarning)\n"
     ]
    },
    {
     "name": "stdout",
     "output_type": "stream",
     "text": [
      "preprocessing:  933 sec\n"
     ]
    }
   ],
   "source": [
    "# preprocessing ORG\n",
    "tic = time.time()\n",
    "FU = FeatureUnion([\n",
    "    (\"pca\", PCA(n_components = 10)),\n",
    "    (\"fs_univ_F\", SelectKBest(f_classif, k=5)),\n",
    "    (\"fs_model\", SelectFromModel(\n",
    "        LinearSVC(max_iter=15000, random_state=seed, class_weight=\"balanced\"), threshold=-np.inf, max_features=1000)\n",
    "    )\n",
    "])\n",
    "\n",
    "pipe = Pipeline([\n",
    "    (\"ss\", StandardScaler()),\n",
    "    (\"pp\", FU)\n",
    "])\n",
    "\n",
    "X_train_prepped = pipe.fit_transform(X_train, Y_train)\n",
    "\n",
    "print(\"preprocessing: \", round(time.time() - tic), \"sec\")\n",
    "\n",
    "# transform test set\n",
    "X_test_prepped = pipe.transform(X_test)"
   ]
  },
  {
   "cell_type": "markdown",
   "execution_count": null,
   "metadata": {},
   "source": [
    "# Evaluate Logistic Regression classifiers\n",
    "\n",
    "Previously optimized pipeline w/ and w/o resampling, optimized in terms of resampling strategy, LogReg hyperparameters (penalty, regularization hyperparameter, class weights for cost-sensitive learning).\n",
    "\n",
    "Best pipelines are re-fitted and extra-sample error is estimated using the held-out test set.\n",
    "\n",
    "4 models to compare:\n",
    "    * m1: Resampling\n",
    "    * m2: Resampling w/ cost-sensitive learning\n",
    "    * m3: No resampling\n",
    "    * m4: No resampling w/ cost-sensitive learning\n",
    "    * m5: No preprocessing"
   ]
  },
  {
   "cell_type": "code",
   "execution_count": 4,
   "metadata": {},
   "outputs": [
    {
     "name": "stdout",
     "output_type": "stream",
     "text": [
      "Model 0 training time:    60 sec\n",
      "Model 1 training time:    54 sec\n",
      "Model 2 training time:    12 sec\n",
      "Model 3 training time:    9 sec\n",
      "Model 5 training time:    197 sec\n"
     ]
    }
   ],
   "source": [
    "# Model 1: resampling\n",
    "m1 = Pipeline([\n",
    "    (\"resample\", SVMSMOTE(sampling_strategy=0.1, random_state=seed, k_neighbors=10, m_neighbors=10)),\n",
    "    (\"clf\", LogisticRegression(max_iter=5000, penalty=\"l2\", C=1, class_weight=None, random_state=seed))\n",
    "])\n",
    "\n",
    "# Model 2: resampling + cost-sensitive learning\n",
    "m2 = Pipeline([\n",
    "    (\"resample\", SVMSMOTE(sampling_strategy=0.1, random_state=seed, k_neighbors=10, m_neighbors=10)),\n",
    "    (\"clf\", LogisticRegression(max_iter=5000, penalty=\"l2\", C=1, class_weight={0:0.1, 1:0.99}, random_state=seed))\n",
    "])\n",
    "\n",
    "# Model 3: no resampling, no Csl\n",
    "m3 = LogisticRegression(max_iter=5000, penalty=\"l2\", C=1, class_weight=None, random_state=seed)\n",
    "\n",
    "# Model 4: csl\n",
    "m4 = LogisticRegression(max_iter=5000, penalty=\"l2\", C=1, class_weight={0:0.05, 1:0.95}, random_state=seed)\n",
    "\n",
    "# fit models\n",
    "i = 0\n",
    "for model in [m1, m2, m3, m4]:\n",
    "    \n",
    "    tic = time.time()\n",
    "    model.fit(X_train_prepped, Y_train)\n",
    "    print(f\"Model {i} training time:    {round(time.time() - tic)} sec\")\n",
    "    i += 1\n",
    "\n",
    "# Model 5: reference, no preprocessing\n",
    "m5 = LogisticRegression(max_iter=5000, random_state=seed)\n",
    "tic = time.time()\n",
    "m5.fit(X_train, Y_train)\n",
    "print(f\"Model 5 training time:    {round(time.time() - tic)} sec\")"
   ]
  },
  {
   "cell_type": "code",
   "execution_count": 5,
   "metadata": {},
   "outputs": [
    {
     "name": "stdout",
     "output_type": "stream",
     "text": [
      "SVMSMOTE-LR\n",
      "--------------------------------------------------------------------------------\n",
      "Precision:     53.49%\n",
      "Recall:        76.67%\n",
      "AUCPR:         51.84%\n",
      "F1:            63.01%\n",
      "MCC:           63.83%\n",
      "\n",
      "SVMSMOTE-LR/CSL\n",
      "--------------------------------------------------------------------------------\n",
      "Precision:     44.07%\n",
      "Recall:        86.67%\n",
      "AUCPR:         54.38%\n",
      "F1:            58.43%\n",
      "MCC:           61.56%\n",
      "\n",
      "LR\n",
      "--------------------------------------------------------------------------------\n",
      "Precision:     55.88%\n",
      "Recall:        63.33%\n",
      "AUCPR:         50.72%\n",
      "F1:            59.38%\n",
      "MCC:           59.28%\n",
      "\n",
      "LR/CSL\n",
      "--------------------------------------------------------------------------------\n",
      "Precision:     48.94%\n",
      "Recall:        76.67%\n",
      "AUCPR:         54.15%\n",
      "F1:            59.74%\n",
      "MCC:           61.03%\n",
      "\n",
      "LR without preprocessing\n",
      "--------------------------------------------------------------------------------\n",
      "Precision:     38.78%\n",
      "Recall:        63.33%\n",
      "AUCPR:         33.82%\n",
      "F1:            48.10%\n",
      "MCC:           49.25%\n",
      "\n"
     ]
    },
    {
     "data": {
      "image/png": "[encoded data removed]",
      "text/plain": [
       "<Figure size 432x288 with 1 Axes>"
      ]
     },
     "metadata": {
      "needs_background": "light"
     },
     "output_type": "display_data"
    }
   ],
   "source": [
    "# init dfs for results\n",
    "out_curves = pd.DataFrame(\n",
    "    columns=[\"model\", \"precision\", \"recall\", \"threshold\"]\n",
    ")\n",
    "\n",
    "out_eval = pd.DataFrame(\n",
    "    index=np.arange(5), \n",
    "    columns=[\"model\", \"precision\", \"recall\", \"accuracy\", \"balanced_accuracy\", \"f1\", \"mcc\", \"tn\", \"fp\", \"fn\", \"tp\", \"aucpr\"]\n",
    ")\n",
    "\n",
    "i = 0\n",
    "\n",
    "for name, model in zip(\n",
    "    [\"SVMSMOTE-LR\", \"SVMSMOTE-LR/CSL\", \"LR\", \"LR/CSL\"],\n",
    "    [m1, m2, m3, m4]\n",
    "):\n",
    "\n",
    "    Y_test_proba = model.predict_proba(X_test_prepped)[:, 1]    # estimated P(class == \"active\")\n",
    "    Y_pred = model.predict(X_test_prepped)                      # predicted class labels\n",
    "\n",
    "    # construct precision-recall curve\n",
    "    prec, rec, t = precision_recall_curve(Y_test, Y_test_proba)\n",
    "    plt.plot(rec, prec, marker='.', label=name, alpha=0.5)\n",
    "    \n",
    "    t = np.append(t, t[-1])\n",
    "    \n",
    "    curves = pd.DataFrame({\n",
    "        \"model\": name,\n",
    "        \"precision\": prec,\n",
    "        \"recall\": rec,\n",
    "        \"threshold\": t\n",
    "    })\n",
    "    \n",
    "    out_curves = out_curves.append(curves)\n",
    "\n",
    "    # compute eval metrics\n",
    "    scores = [\n",
    "        scorer(Y_test, Y_pred) for scorer in [            \n",
    "            precision_score, recall_score, accuracy_score, balanced_accuracy_score, f1_score, matthews_corrcoef\n",
    "        ]\n",
    "    ]\n",
    "    # add tn, fp, fn, tp\n",
    "    scores.extend(confusion_matrix(Y_test, Y_pred).ravel())\n",
    "    # add AUCPR\n",
    "    scores.append(auc(rec, prec))\n",
    "    # add name\n",
    "    scores.insert(0, name)\n",
    "    \n",
    "    # store in df\n",
    "    for col, value in zip(out_eval.columns, scores):\n",
    "        out_eval[col][i] = value\n",
    "    \n",
    "    i += 1\n",
    "    \n",
    "    # print evaluation scores\n",
    "    print(f\"{name}\\n{'-' * 80}\")\n",
    "    print(f\"Precision:     {precision_score(Y_test, Y_pred):.2%}\")\n",
    "    print(f\"Recall:        {recall_score(Y_test, Y_pred):.2%}\")\n",
    "    print(f\"AUCPR:         {auc(rec, prec):.2%}\")\n",
    "    print(f\"F1:            {f1_score(Y_test, Y_pred):.2%}\")\n",
    "    print(f\"MCC:           {matthews_corrcoef(Y_test, Y_pred):.2%}\")\n",
    "    print()\n",
    "\n",
    "# plot luck\n",
    "luck = Y_test.mean()\n",
    "plt.plot([0, 1], [luck, luck], linestyle='--', c=\"grey\")\n",
    "plt.xlabel('Recall')\n",
    "plt.ylabel('Precision')\n",
    "plt.legend()\n",
    "\n",
    "# add m5: reference (on unprocessed ds)\n",
    "Y_test_proba = m5.predict_proba(X_test)[:, 1]    # estimated P(class == \"active\")\n",
    "Y_pred = m5.predict(X_test)                      # predicted class labels\n",
    "\n",
    "# construct precision-recall curve\n",
    "prec, rec, t = precision_recall_curve(Y_test, Y_test_proba)\n",
    "plt.plot(rec, prec, marker='.', label=\"LR (no PP)\", alpha=0.5)\n",
    "\n",
    "t = np.append(t, t[-1])\n",
    "\n",
    "curves = pd.DataFrame({\n",
    "    \"model\": \"LR (no PP)\",\n",
    "    \"precision\": prec,\n",
    "    \"recall\": rec,\n",
    "    \"threshold\": t\n",
    "})\n",
    "\n",
    "out_curves = out_curves.append(curves)\n",
    "\n",
    "# compute eval metrics\n",
    "scores = [\n",
    "    scorer(Y_test, Y_pred) for scorer in [            \n",
    "        precision_score, recall_score, accuracy_score, balanced_accuracy_score, f1_score, matthews_corrcoef\n",
    "    ]\n",
    "]\n",
    "# add tn, fp, fn, tp\n",
    "scores.extend(confusion_matrix(Y_test, Y_pred).ravel())\n",
    "# add AUCPR\n",
    "scores.append(auc(rec, prec))\n",
    "# add name\n",
    "scores.insert(0, \"LR (no PP)\")\n",
    "\n",
    "# store in df\n",
    "for col, value in zip(out_eval.columns, scores):\n",
    "    out_eval[col][4] = value\n",
    "    \n",
    "# print evaluation scores\n",
    "print(f\"LR without preprocessing\\n{'-' * 80}\")\n",
    "print(f\"Precision:     {precision_score(Y_test, Y_pred):.2%}\")\n",
    "print(f\"Recall:        {recall_score(Y_test, Y_pred):.2%}\")\n",
    "print(f\"AUCPR:         {auc(rec, prec):.2%}\")\n",
    "print(f\"F1:            {f1_score(Y_test, Y_pred):.2%}\")\n",
    "print(f\"MCC:           {matthews_corrcoef(Y_test, Y_pred):.2%}\")\n",
    "print()\n"
   ]
  },
  {
   "cell_type": "code",
   "execution_count": 6,
   "metadata": {},
   "outputs": [],
   "source": [
    "out_eval.to_csv(\"LRC_eval.csv\")\n",
    "out_curves.to_csv(\"LRC_eval_PRcurves.csv\")"
   ]
  }
 ],
 "metadata": {
  "kernelspec": {
   "display_name": "Python 3",
   "language": "python",
   "name": "python3"
  },
  "language_info": {
   "codemirror_mode": {
    "name": "ipython",
    "version": 3
   },
   "file_extension": ".py",
   "mimetype": "text/x-python",
   "name": "python",
   "nbconvert_exporter": "python",
   "pygments_lexer": "ipython3",
   "version": "3.6.6"
  }
 },
 "nbformat": 4,
 "nbformat_minor": 4
}
